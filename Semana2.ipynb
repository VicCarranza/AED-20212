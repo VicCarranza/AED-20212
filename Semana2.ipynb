{
  "nbformat": 4,
  "nbformat_minor": 0,
  "metadata": {
    "colab": {
      "name": "Semana2.ipynb",
      "provenance": [],
      "authorship_tag": "ABX9TyO1NZ+4wkInWUXbghRDJO48",
      "include_colab_link": true
    },
    "kernelspec": {
      "name": "python3",
      "display_name": "Python 3"
    },
    "language_info": {
      "name": "python"
    }
  },
  "cells": [
    {
      "cell_type": "markdown",
      "metadata": {
        "id": "view-in-github",
        "colab_type": "text"
      },
      "source": [
        "<a href=\"https://colab.research.google.com/github/VicCarranza/AED-20212/blob/main/Semana2.ipynb\" target=\"_parent\"><img src=\"https://colab.research.google.com/assets/colab-badge.svg\" alt=\"Open In Colab\"/></a>"
      ]
    },
    {
      "cell_type": "markdown",
      "metadata": {
        "id": "fRlKTpcskbSo"
      },
      "source": [
        "#Temario\n",
        "1. Colab-MD\n",
        "2. Compilacion manual\n",
        "3. Manejo de templates"
      ]
    },
    {
      "cell_type": "code",
      "metadata": {
        "colab": {
          "base_uri": "https://localhost:8080/"
        },
        "id": "4NRJwmLEha18",
        "outputId": "b943f2c8-7d74-468b-d283-3038a5232077"
      },
      "source": [
        "%%writefile programa1.cpp\n",
        "#include <iostream>\n",
        "using std::cout;\n",
        "int main(){\n",
        "  cout<<\"UPCinos\";\n",
        "}"
      ],
      "execution_count": null,
      "outputs": [
        {
          "output_type": "stream",
          "text": [
            "Overwriting programa1.cpp\n"
          ],
          "name": "stdout"
        }
      ]
    },
    {
      "cell_type": "code",
      "metadata": {
        "id": "LUB5wzlDisEZ"
      },
      "source": [
        "#compilar el archivo \"cpp\"\n",
        "!g++ programa1.cpp"
      ],
      "execution_count": null,
      "outputs": []
    },
    {
      "cell_type": "code",
      "metadata": {
        "colab": {
          "base_uri": "https://localhost:8080/"
        },
        "id": "blIs-bVOi4Wd",
        "outputId": "23cea012-fcf2-4be7-ff2e-80296d83d7cf"
      },
      "source": [
        "#ejecucion\n",
        "!./a.out"
      ],
      "execution_count": null,
      "outputs": [
        {
          "output_type": "stream",
          "text": [
            "UPCinos"
          ],
          "name": "stdout"
        }
      ]
    },
    {
      "cell_type": "code",
      "metadata": {
        "colab": {
          "base_uri": "https://localhost:8080/"
        },
        "id": "YZaJihtCjQLh",
        "outputId": "dcf1759e-aed2-4eb4-aa3e-d1c4b11d61d1"
      },
      "source": [
        "!g++ programa1.cpp && ./a.out"
      ],
      "execution_count": null,
      "outputs": [
        {
          "output_type": "stream",
          "text": [
            "UPCinos"
          ],
          "name": "stdout"
        }
      ]
    },
    {
      "cell_type": "code",
      "metadata": {
        "colab": {
          "base_uri": "https://localhost:8080/"
        },
        "id": "IeeX31ZgjcDe",
        "outputId": "3a8c7f32-9461-4b0f-abe1-6a2acc38122b"
      },
      "source": [
        "!g++ -std=c++1z -Wall programa1.cpp -o programa.exe && ./programa.exe"
      ],
      "execution_count": null,
      "outputs": [
        {
          "output_type": "stream",
          "text": [
            "UPCinos"
          ],
          "name": "stdout"
        }
      ]
    },
    {
      "cell_type": "markdown",
      "metadata": {
        "id": "tcVSMEfynocr"
      },
      "source": [
        "Templates"
      ]
    },
    {
      "cell_type": "code",
      "metadata": {
        "colab": {
          "base_uri": "https://localhost:8080/"
        },
        "id": "TzU343gMjsTj",
        "outputId": "64747215-20fb-45c6-e938-9afbac1322ce"
      },
      "source": [
        "%%writefile sinTemplates.cpp\n",
        "typedef usigned long long ul;\n",
        "class BigNumber{\n",
        "    ul n1;\n",
        "    ul n2\n",
        "    public:\n",
        "      BigNumber(ul n1 = 0, ul n2 = 0)n1(n1),n2(n2){}\n",
        "\n",
        "};\n",
        "\n",
        "class BigNumber1{\n",
        "    int n1;\n",
        "    int n2\n",
        "    public:\n",
        "      BigNumber1(int n1 = 0, int n2 = 0)n1(n1),n2(n2){}\n",
        "\n",
        "};\n",
        "\n",
        "class BigNumber2{\n",
        "    float n1;\n",
        "    float n2\n",
        "    public:\n",
        "      BigNumber2(float n1 = 0, float n2 = 0)n1(n1),n2(n2){}\n",
        "\n",
        "};\n",
        "int main(){\n",
        "    BigNumber n;\n",
        "    BigNumber1 n1;\n",
        "    BigNumber2 n2;\n",
        "    return 0;\n",
        "}"
      ],
      "execution_count": null,
      "outputs": [
        {
          "output_type": "stream",
          "text": [
            "Writing sinTemplates.cpp\n"
          ],
          "name": "stdout"
        }
      ]
    },
    {
      "cell_type": "code",
      "metadata": {
        "id": "ZAXgJk_3rGhF"
      },
      "source": [
        "!g++ sinTemplates.cpp && ./a.out"
      ],
      "execution_count": null,
      "outputs": []
    },
    {
      "cell_type": "code",
      "metadata": {
        "id": "FxEB3NWWrIem"
      },
      "source": [
        ""
      ],
      "execution_count": null,
      "outputs": []
    }
  ]
}